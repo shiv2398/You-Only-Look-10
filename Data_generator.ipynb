{
 "cells": [
  {
   "cell_type": "code",
   "execution_count": 19,
   "id": "1284f663",
   "metadata": {},
   "outputs": [],
   "source": [
    "import cv2 as cv\n",
    "import os \n",
    "import numpy as np\n",
    "import time\n",
    "import imgaug as ia\n",
    "from imgaug import augmenters as iaa\n",
    "import os\n",
    "import sys\n",
    "import argparse\n",
    "from glob import glob\n",
    "import cv2\n",
    "import shutil\n",
    "import random\n",
    "from PIL import Image\n",
    "import pandas as pd\n",
    "import errno\n"
   ]
  },
  {
   "cell_type": "code",
   "execution_count": 20,
   "id": "0c198375",
   "metadata": {},
   "outputs": [],
   "source": [
    "def video_generator(path,person_name):  \n",
    "    # Create an object to read \n",
    "    # from camera\n",
    "    video = cv2.VideoCapture(0)\n",
    "\n",
    "    # We need to check if camera\n",
    "    # is opened previously or not\n",
    "    if (video.isOpened() == False): \n",
    "        print(\"Error reading video file\")\n",
    "\n",
    "    # We need to set resolutions.\n",
    "    # so, convert them from float to integer.\n",
    "    frame_width = int(video.get(3))\n",
    "    frame_height = int(video.get(4))\n",
    "\n",
    "    size = (frame_width, frame_height)\n",
    "\n",
    "    # Below VideoWriter object will create\n",
    "    # a frame of above defined The output \n",
    "    # is stored in 'filename.avi' file.\n",
    "    \n",
    "    result = cv2.VideoWriter(path+'/'+person_name+'.avi', \n",
    "                             cv2.VideoWriter_fourcc(*'MJPG'),\n",
    "                             10, size)\n",
    "    capture_duration = 10\n",
    "    start_time = time.time()\n",
    "    while(int(time.time() - start_time) < capture_duration):\n",
    "        ret, frame = video.read()\n",
    "\n",
    "        if ret == True: \n",
    "\n",
    "            # Write the frame into the\n",
    "            # file 'filename.avi'\n",
    "            result.write(frame)\n",
    "\n",
    "            # Display the frame\n",
    "            # saved in the file\n",
    "            cv2.imshow('Frame', frame)\n",
    "\n",
    "            # Press S on keyboard \n",
    "            # to stop the process\n",
    "            if cv2.waitKey(1) & 0xFF == ord('s'):\n",
    "                break\n",
    "\n",
    "        # Break the loop\n",
    "        else:\n",
    "            break\n",
    "    video.release()\n",
    "    result.release()\n",
    "\n",
    "    # Closes all the frames\n",
    "    cv2.destroyAllWindows()\n",
    "\n",
    "    print(\"The video was successfully saved\")"
   ]
  },
  {
   "cell_type": "code",
   "execution_count": 21,
   "id": "908c3934",
   "metadata": {},
   "outputs": [],
   "source": [
    "def image_generator(path,person_name):\n",
    "    cam = cv2.VideoCapture(path+'/'+person_name+'.avi')\n",
    "    currentframe = 0\n",
    "    i=0\n",
    "    while(True):\n",
    "        ret,frame = cam.read()\n",
    "        \n",
    "        if ret:\n",
    "            name = path+'/'+'image(' + str(currentframe) + ').jpg'\n",
    "            \n",
    "            cv2.imwrite(name, frame)\n",
    "            currentframe += 1\n",
    "            i+=1\n",
    "        if i==100:\n",
    "            break\n",
    "        else:\n",
    "            break\n",
    "    os.remove(path+'/'+person_name+'.avi')\n",
    "    cam.release()\n",
    "    cv2.destroyAllWindows()\n",
    "    print(f'{i}:Image are Generated')"
   ]
  },
  {
   "cell_type": "code",
   "execution_count": 22,
   "id": "5abed4f2",
   "metadata": {},
   "outputs": [],
   "source": [
    "def data_agumentation(path,n):\n",
    "\n",
    "    IMG_DIR=path\n",
    "    if not os.path.isdir(IMG_DIR):\n",
    "        print('%s is not a valid directory.' % IMG_DIR)\n",
    "        sys.exit(1)\n",
    "    IMG_EXTENSION = '.jpg'\n",
    "    NUM_AUG_IMAGES = n\n",
    "    cwd = os.getcwd()\n",
    "\n",
    "    #### Define augmentation sequence ####\n",
    "    # This can be tweaked to create a huge variety of image augmentations.\n",
    "    # See https://github.com/aleju/imgaug for a list of augmentation techniques available.\n",
    "    seq1 = iaa.Sequential([\n",
    "        iaa.Fliplr(0.5),                             # Horizontal flip 50% of images\n",
    "        iaa.Crop(percent=(0, 0.10)),                 # Crop all images between 0% to 10%\n",
    "        iaa.GaussianBlur(sigma=(0, 1)),              # Add slight blur to images\n",
    "    ##    iaa.Multiply((0.7, 1.3), per_channel=0.2),   # Slightly brighten, darken, or recolor images\n",
    "    ##    iaa.Affine(\n",
    "    ##        scale={\"x\": (0.8, 1.2), \"y\": (0.8,1.2)},                # Resize image\n",
    "    ##        translate_percent={\"x\": (-0.1, 0.1), \"y\": (-0.1, 0.1)}, # Translate image\n",
    "    ##        rotate=(-5, 5),                                         # Rotate image\n",
    "    ##        mode=ia.ALL, cval=(0,255)                               # Filling in extra pixels\n",
    "    ##        )\n",
    "        ])\n",
    "\n",
    "\n",
    "    #### Start of main program ####\n",
    "\n",
    "    # Obtain list of images in IMG_DIR directory\n",
    "    img_fns = glob(IMG_DIR + '/*' + IMG_EXTENSION)\n",
    "\n",
    "    # Go through every image in directory, augment it, and save new image/annotation data\n",
    "    count=0\n",
    "    for img_fn in img_fns:\n",
    "\n",
    "        #---- Load image ----#\n",
    "        img1_bgr = cv2.imread(img_fn) # Load image with OpenCV\n",
    "        img1 = cv2.cvtColor(img1_bgr, cv2.COLOR_BGR2RGB) # Re-color to RGB from BGR\n",
    "\n",
    "        #---- Augment image N times----#\n",
    "        for i in range(NUM_AUG_IMAGES):\n",
    "            img_aug1 = seq1(images=[img1])[0] # Apply augmentation to image\n",
    "\n",
    "            #---- Save image ----#\n",
    "            base_fn = img_fn.replace(IMG_EXTENSION,'') # Get image base filename\n",
    "            img_aug_fn = base_fn + ('_aug%d' % (i+1)) + IMG_EXTENSION # Append \"aug#\" to filename\n",
    "            img_aug_bgr1 = cv2.cvtColor(img_aug1, cv2.COLOR_RGB2BGR) # Re-color to BGR from RGB\n",
    "            cv2.imwrite(img_aug_fn,img_aug_bgr1) # Save image to disk\n",
    "            count+=1\n",
    "    print(f'Image Agumentation successfully Done !! {count} images Agumented')"
   ]
  },
  {
   "cell_type": "code",
   "execution_count": 23,
   "id": "bf8f5098",
   "metadata": {},
   "outputs": [],
   "source": [
    "def cleanup(folder):\n",
    "    for name in os.listdir(folder):\n",
    "        try:\n",
    "            os.rmdir(os.path.join(folder, name))\n",
    "        except:\n",
    "            continue\n",
    "            \n"
   ]
  },
  {
   "cell_type": "code",
   "execution_count": 24,
   "id": "bebe8d01",
   "metadata": {},
   "outputs": [],
   "source": [
    "def image_rescaling(path):\n",
    "    for img in os.listdir(path):\n",
    "        img_dir=os.path.join(path,img)\n",
    "        img = Image.open(img_dir)\n",
    "        img = img.resize((28, 28)) \n",
    "        img.save(img_dir)\n",
    "    print('image_rescaled')\n",
    "        \n",
    "        \n",
    "        \n",
    "    "
   ]
  },
  {
   "cell_type": "code",
   "execution_count": 25,
   "id": "6229797c",
   "metadata": {
    "scrolled": true
   },
   "outputs": [
    {
     "name": "stdout",
     "output_type": "stream",
     "text": [
      "Enter Number of person for no :5\n",
      "Enter person name:enjoy_cup\n",
      "Show _object\n",
      "The video was successfully saved\n",
      "1:Image are Generated\n",
      "image_rescaled\n",
      "Image Agumentation successfully Done !! 100 images Agumented\n",
      "Enter person name:smile_cup\n",
      "Show _object\n",
      "The video was successfully saved\n",
      "1:Image are Generated\n",
      "image_rescaled\n",
      "Image Agumentation successfully Done !! 100 images Agumented\n",
      "Enter person name:medicine\n",
      "Show _object\n",
      "The video was successfully saved\n",
      "1:Image are Generated\n",
      "image_rescaled\n",
      "Image Agumentation successfully Done !! 100 images Agumented\n",
      "Enter person name:coffee\n",
      "Show _object\n",
      "The video was successfully saved\n",
      "1:Image are Generated\n",
      "image_rescaled\n",
      "Image Agumentation successfully Done !! 100 images Agumented\n",
      "Enter person name:ketchup\n",
      "Show _object\n",
      "The video was successfully saved\n",
      "1:Image are Generated\n",
      "image_rescaled\n",
      "Image Agumentation successfully Done !! 100 images Agumented\n"
     ]
    }
   ],
   "source": [
    "perm=int(input('Enter Number of person for no :'))\n",
    "person_list={}\n",
    "person_dir_path={}\n",
    "for i in range(1,perm+1):\n",
    "    person=input('Enter person name:')\n",
    "    person_list[person]=i\n",
    "    person_data=os.path.join('data',person)\n",
    "    person_dir_path[person]=person_data\n",
    "    os.mkdir(person_data)\n",
    "    print('Show _object')\n",
    "    video_generator(person_data,person)\n",
    "    image_generator(person_data,person)\n",
    "    image_rescaling(person_data)\n",
    "    data_agumentation(person_data,100)\n",
    "    "
   ]
  },
  {
   "cell_type": "code",
   "execution_count": 26,
   "id": "7565a734",
   "metadata": {},
   "outputs": [],
   "source": [
    "def ratio_train(n):\n",
    "    return int((80/100)*n)\n",
    "def ratio_val(n):\n",
    "    return int((20/100)*n)"
   ]
  },
  {
   "cell_type": "markdown",
   "id": "9dbbaca4",
   "metadata": {},
   "source": [
    "# data_preprocessing"
   ]
  },
  {
   "cell_type": "code",
   "execution_count": 27,
   "id": "eef0a9e3",
   "metadata": {},
   "outputs": [],
   "source": [
    "train_data=os.path.join('data','train')\n",
    "os.mkdir(train_data)\n",
    "val_data=os.path.join('data','val')\n",
    "os.mkdir(val_data)"
   ]
  },
  {
   "cell_type": "code",
   "execution_count": 28,
   "id": "5be269b2",
   "metadata": {},
   "outputs": [],
   "source": [
    "\n",
    "for key,path in person_dir_path.items():\n",
    "    class_train_path=os.path.join(train_data,key)\n",
    "    os.mkdir(class_train_path)\n",
    "    for i,img in enumerate(os.listdir(path)):\n",
    "        source=os.path.join(path,img)\n",
    "        shutil.move(source,class_train_path)\n",
    "    class_val_path=os.path.join(val_data,key)\n",
    "    os.mkdir(class_val_path)\n",
    "    for img in random.sample(os.listdir(class_train_path),ratio_val(len(os.listdir(class_train_path)))):\n",
    "        source=os.path.join(class_train_path,img)\n",
    "        shutil.move(source,class_val_path)"
   ]
  },
  {
   "cell_type": "code",
   "execution_count": 29,
   "id": "dc1f417c",
   "metadata": {},
   "outputs": [
    {
     "data": {
      "text/plain": [
       "{'enjoy_cup': 1, 'smile_cup': 2, 'medicine': 3, 'coffee': 4, 'ketchup': 5}"
      ]
     },
     "execution_count": 29,
     "metadata": {},
     "output_type": "execute_result"
    }
   ],
   "source": [
    "#labels _formation\n",
    "person_list"
   ]
  },
  {
   "cell_type": "code",
   "execution_count": 30,
   "id": "65fdfdfb",
   "metadata": {},
   "outputs": [
    {
     "data": {
      "text/plain": [
       "{'enjoy_cup': array([1, 1, 1, 1, 1, 1, 1, 1, 1, 1, 1, 1, 1, 1, 1, 1, 1, 1, 1, 1, 1, 1,\n",
       "        1, 1, 1, 1, 1, 1, 1, 1, 1, 1, 1, 1, 1, 1, 1, 1, 1, 1, 1, 1, 1, 1,\n",
       "        1, 1, 1, 1, 1, 1, 1, 1, 1, 1, 1, 1, 1, 1, 1, 1, 1, 1, 1, 1, 1, 1,\n",
       "        1, 1, 1, 1, 1, 1, 1, 1, 1, 1, 1, 1, 1, 1, 1]),\n",
       " 'smile_cup': array([2, 2, 2, 2, 2, 2, 2, 2, 2, 2, 2, 2, 2, 2, 2, 2, 2, 2, 2, 2, 2, 2,\n",
       "        2, 2, 2, 2, 2, 2, 2, 2, 2, 2, 2, 2, 2, 2, 2, 2, 2, 2, 2, 2, 2, 2,\n",
       "        2, 2, 2, 2, 2, 2, 2, 2, 2, 2, 2, 2, 2, 2, 2, 2, 2, 2, 2, 2, 2, 2,\n",
       "        2, 2, 2, 2, 2, 2, 2, 2, 2, 2, 2, 2, 2, 2, 2]),\n",
       " 'medicine': array([3, 3, 3, 3, 3, 3, 3, 3, 3, 3, 3, 3, 3, 3, 3, 3, 3, 3, 3, 3, 3, 3,\n",
       "        3, 3, 3, 3, 3, 3, 3, 3, 3, 3, 3, 3, 3, 3, 3, 3, 3, 3, 3, 3, 3, 3,\n",
       "        3, 3, 3, 3, 3, 3, 3, 3, 3, 3, 3, 3, 3, 3, 3, 3, 3, 3, 3, 3, 3, 3,\n",
       "        3, 3, 3, 3, 3, 3, 3, 3, 3, 3, 3, 3, 3, 3, 3]),\n",
       " 'coffee': array([4, 4, 4, 4, 4, 4, 4, 4, 4, 4, 4, 4, 4, 4, 4, 4, 4, 4, 4, 4, 4, 4,\n",
       "        4, 4, 4, 4, 4, 4, 4, 4, 4, 4, 4, 4, 4, 4, 4, 4, 4, 4, 4, 4, 4, 4,\n",
       "        4, 4, 4, 4, 4, 4, 4, 4, 4, 4, 4, 4, 4, 4, 4, 4, 4, 4, 4, 4, 4, 4,\n",
       "        4, 4, 4, 4, 4, 4, 4, 4, 4, 4, 4, 4, 4, 4, 4]),\n",
       " 'ketchup': array([5, 5, 5, 5, 5, 5, 5, 5, 5, 5, 5, 5, 5, 5, 5, 5, 5, 5, 5, 5, 5, 5,\n",
       "        5, 5, 5, 5, 5, 5, 5, 5, 5, 5, 5, 5, 5, 5, 5, 5, 5, 5, 5, 5, 5, 5,\n",
       "        5, 5, 5, 5, 5, 5, 5, 5, 5, 5, 5, 5, 5, 5, 5, 5, 5, 5, 5, 5, 5, 5,\n",
       "        5, 5, 5, 5, 5, 5, 5, 5, 5, 5, 5, 5, 5, 5, 5])}"
      ]
     },
     "execution_count": 30,
     "metadata": {},
     "output_type": "execute_result"
    }
   ],
   "source": [
    "labels={}\n",
    "for key,path in person_dir_path.items():\n",
    "    dir_paths=os.path.join(train_data,key)\n",
    "    labels[key]=np.full(len(os.listdir(dir_paths)),person_list[key])\n"
   ]
  },
  {
   "cell_type": "code",
   "execution_count": null,
   "id": "2d9080dc",
   "metadata": {},
   "outputs": [],
   "source": []
  },
  {
   "cell_type": "code",
   "execution_count": 32,
   "id": "df7a92f0",
   "metadata": {},
   "outputs": [],
   "source": [
    "dir_class_img={}\n",
    "for key,path in person_dir_path.items():\n",
    "    dir_paths=os.path.join(train_data,key)\n",
    "    img_dict={}\n",
    "    for i,img in enumerate(os.listdir(dir_paths)):\n",
    "        img_pi = Image.open(os.path.join(dir_paths,img))\n",
    "        arr_img=np.asarray(img_pi)\n",
    "        img_dict[i]=arr_img.flatten()\n",
    "    dir_class_img[key]=img_dict"
   ]
  },
  {
   "cell_type": "code",
   "execution_count": 34,
   "id": "8087d86a",
   "metadata": {},
   "outputs": [],
   "source": [
    "data=pd.DataFrame()\n",
    "lab_data=pd.DataFrame()\n",
    "for (key1,values),(lab_key,lab_values) in zip(dir_class_img.items(),labels.items()):\n",
    "    temp_df=pd.DataFrame(values)\n",
    "    temp_df=temp_df.T\n",
    "    data=pd.concat([data,temp_df],axis=0)\n",
    "    lab_data_temp=pd.DataFrame(lab_values)\n",
    "    lab_data=pd.concat([lab_data,lab_data_temp],axis=0)  "
   ]
  },
  {
   "cell_type": "code",
   "execution_count": 35,
   "id": "2e7a984f",
   "metadata": {},
   "outputs": [],
   "source": [
    "final_data_set=pd.concat([data,lab_data],axis=1)"
   ]
  },
  {
   "cell_type": "code",
   "execution_count": 37,
   "id": "31288e10",
   "metadata": {},
   "outputs": [],
   "source": [
    "final_data_set = final_data_set.apply(np.random.permutation, axis=0)    "
   ]
  },
  {
   "cell_type": "code",
   "execution_count": 57,
   "id": "f919489d",
   "metadata": {},
   "outputs": [],
   "source": [
    "final_data_set.to_csv('data.csv',index=False)"
   ]
  },
  {
   "cell_type": "code",
   "execution_count": 62,
   "id": "96d988fc",
   "metadata": {},
   "outputs": [],
   "source": [
    "label_data=pd.DataFrame(labels)\n",
    "label_data.to_csv('classes.csv',index=False)"
   ]
  },
  {
   "cell_type": "code",
   "execution_count": null,
   "id": "c4ce9e10",
   "metadata": {},
   "outputs": [],
   "source": []
  }
 ],
 "metadata": {
  "kernelspec": {
   "display_name": "Python 3 (ipykernel)",
   "language": "python",
   "name": "python3"
  },
  "language_info": {
   "codemirror_mode": {
    "name": "ipython",
    "version": 3
   },
   "file_extension": ".py",
   "mimetype": "text/x-python",
   "name": "python",
   "nbconvert_exporter": "python",
   "pygments_lexer": "ipython3",
   "version": "3.10.6"
  }
 },
 "nbformat": 4,
 "nbformat_minor": 5
}
