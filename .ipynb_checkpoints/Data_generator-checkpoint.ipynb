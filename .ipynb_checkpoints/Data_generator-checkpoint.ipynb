{
 "cells": [
  {
   "cell_type": "code",
   "execution_count": 1,
   "id": "1284f663",
   "metadata": {},
   "outputs": [],
   "source": [
    "import cv2 as cv\n",
    "import os \n",
    "import cv2\n",
    "import cv2\n",
    "import time"
   ]
  },
  {
   "cell_type": "code",
   "execution_count": 2,
   "id": "d59cc9a6",
   "metadata": {},
   "outputs": [],
   "source": [
    "os.mkdir('videoset')"
   ]
  },
  {
   "cell_type": "code",
   "execution_count": 3,
   "id": "cc52704e",
   "metadata": {},
   "outputs": [],
   "source": [
    "os.chdir('/home/sahitya/videoset')"
   ]
  },
  {
   "cell_type": "code",
   "execution_count": 41,
   "id": "66297e1c",
   "metadata": {},
   "outputs": [],
   "source": [
    "os.chdir('/media/sahitya/1674386C743850AB/video_dataset')"
   ]
  },
  {
   "cell_type": "code",
   "execution_count": 4,
   "id": "9678e64b",
   "metadata": {},
   "outputs": [
    {
     "name": "stderr",
     "output_type": "stream",
     "text": [
      "[ WARN:0] global ./modules/videoio/src/cap_gstreamer.cpp (1100) open OpenCV | GStreamer warning: Cannot query video position: status=0, value=-1, duration=-1\n"
     ]
    },
    {
     "name": "stdout",
     "output_type": "stream",
     "text": [
      "The video was successfully saved\n"
     ]
    }
   ],
   "source": [
    "   \n",
    "import cv2\n",
    "  \n",
    "   \n",
    "# Create an object to read \n",
    "# from camera\n",
    "video = cv2.VideoCapture(0)\n",
    "   \n",
    "# We need to check if camera\n",
    "# is opened previously or not\n",
    "if (video.isOpened() == False): \n",
    "    print(\"Error reading video file\")\n",
    "  \n",
    "# We need to set resolutions.\n",
    "# so, convert them from float to integer.\n",
    "frame_width = int(video.get(3))\n",
    "frame_height = int(video.get(4))\n",
    "   \n",
    "size = (frame_width, frame_height)\n",
    "   \n",
    "# Below VideoWriter object will create\n",
    "# a frame of above defined The output \n",
    "# is stored in 'filename.avi' file.\n",
    "result = cv2.VideoWriter('filename.avi', \n",
    "                         cv2.VideoWriter_fourcc(*'MJPG'),\n",
    "                         10, size)\n",
    "capture_duration = 10\n",
    "start_time = time.time()\n",
    "while(int(time.time() - start_time) < capture_duration):\n",
    "    ret, frame = video.read()\n",
    "  \n",
    "    if ret == True: \n",
    "  \n",
    "        # Write the frame into the\n",
    "        # file 'filename.avi'\n",
    "        result.write(frame)\n",
    "  \n",
    "        # Display the frame\n",
    "        # saved in the file\n",
    "        cv2.imshow('Frame', frame)\n",
    "  \n",
    "        # Press S on keyboard \n",
    "        # to stop the process\n",
    "        if cv2.waitKey(1) & 0xFF == ord('s'):\n",
    "            break\n",
    "  \n",
    "    # Break the loop\n",
    "    else:\n",
    "        break\n",
    "video.release()\n",
    "result.release()\n",
    "    \n",
    "# Closes all the frames\n",
    "cv2.destroyAllWindows()\n",
    "   \n",
    "print(\"The video was successfully saved\")"
   ]
  },
  {
   "cell_type": "code",
   "execution_count": 5,
   "id": "9b6b8bce",
   "metadata": {},
   "outputs": [],
   "source": [
    "import cv2\n",
    "import os\n",
    "cam = cv2.VideoCapture(\"filename.avi\")\n",
    "currentframe = 0\n",
    "while(True):\n",
    "    ret,frame = cam.read()\n",
    "    if ret:\n",
    "        name = 'Video to Images\\Frame(' + str(currentframe) + ').jpg'\n",
    "        cv2.imwrite(name, frame)\n",
    "        currentframe += 1\n",
    "    else:\n",
    "        break\n",
    "cam.release()\n",
    "cv2.destroyAllWindows()"
   ]
  },
  {
   "cell_type": "code",
   "execution_count": null,
   "id": "5be269b2",
   "metadata": {},
   "outputs": [],
   "source": []
  }
 ],
 "metadata": {
  "kernelspec": {
   "display_name": "Python 3 (ipykernel)",
   "language": "python",
   "name": "python3"
  },
  "language_info": {
   "codemirror_mode": {
    "name": "ipython",
    "version": 3
   },
   "file_extension": ".py",
   "mimetype": "text/x-python",
   "name": "python",
   "nbconvert_exporter": "python",
   "pygments_lexer": "ipython3",
   "version": "3.10.6"
  }
 },
 "nbformat": 4,
 "nbformat_minor": 5
}
