{
 "cells": [
  {
   "cell_type": "code",
   "execution_count": 4,
   "id": "6586083d",
   "metadata": {},
   "outputs": [],
   "source": [
    "import numpy as np\n",
    "import pandas as pd\n",
    "from sklearn.model_selection import train_test_split\n",
    "from sklearn.linear_model import LogisticRegression\n",
    "import os \n",
    "import cv2"
   ]
  },
  {
   "cell_type": "code",
   "execution_count": 9,
   "id": "57d711a4",
   "metadata": {},
   "outputs": [],
   "source": [
    "data_img=os.path.join(os.getcwd(),'data/train')\n"
   ]
  },
  {
   "cell_type": "code",
   "execution_count": 10,
   "id": "17a0367f",
   "metadata": {},
   "outputs": [],
   "source": [
    "data = sorted(os.listdir(data_img))"
   ]
  },
  {
   "cell_type": "code",
   "execution_count": 7,
   "id": "8dfd0bb0",
   "metadata": {},
   "outputs": [
    {
     "data": {
      "text/plain": [
       "'/media/sahitya/OS/10_sec/data/train'"
      ]
     },
     "execution_count": 7,
     "metadata": {},
     "output_type": "execute_result"
    }
   ],
   "source": [
    "img=[]\n",
    "for \n",
    "    \n",
    "    "
   ]
  },
  {
   "cell_type": "code",
   "execution_count": null,
   "id": "446bdbe8",
   "metadata": {},
   "outputs": [],
   "source": []
  }
 ],
 "metadata": {
  "kernelspec": {
   "display_name": "Python 3 (ipykernel)",
   "language": "python",
   "name": "python3"
  },
  "language_info": {
   "codemirror_mode": {
    "name": "ipython",
    "version": 3
   },
   "file_extension": ".py",
   "mimetype": "text/x-python",
   "name": "python",
   "nbconvert_exporter": "python",
   "pygments_lexer": "ipython3",
   "version": "3.10.6"
  }
 },
 "nbformat": 4,
 "nbformat_minor": 5
}
